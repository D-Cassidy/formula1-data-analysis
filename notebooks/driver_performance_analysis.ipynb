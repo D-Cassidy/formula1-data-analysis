{
 "cells": [
  {
   "cell_type": "markdown",
   "id": "8b51eae9-b20f-4099-aec8-66cf5ac0ec9e",
   "metadata": {},
   "source": [
    "The goal of this notebook is to analyze the changes in lap times and overall performance of each driver from the 2023 to the 2024 Formula 1 Season"
   ]
  },
  {
   "cell_type": "markdown",
   "id": "17efd6cb-f9d4-420f-9f19-bd5aa97c0f62",
   "metadata": {},
   "source": [
    "Import Packages"
   ]
  },
  {
   "cell_type": "code",
   "execution_count": 5,
   "id": "676489cf-9321-4fc4-985d-ce063465957a",
   "metadata": {},
   "outputs": [],
   "source": [
    "import pandas as pd\n",
    "import numpy as np\n",
    "import matplotlib.pyplot as plt \n",
    "import os\n",
    "import seaborn as sns"
   ]
  },
  {
   "cell_type": "markdown",
   "id": "5343b5a3-a266-4735-a616-2cf7d95f1ac5",
   "metadata": {},
   "source": [
    "Import Data"
   ]
  },
  {
   "cell_type": "code",
   "execution_count": 6,
   "id": "60e9b766-d124-4b05-bdf1-db6a1ecbee13",
   "metadata": {},
   "outputs": [
    {
     "data": {
      "text/plain": [
       "['drivers.csv',\n",
       " 'constructor_standings.csv',\n",
       " 'pit_stops.csv',\n",
       " 'seasons.csv',\n",
       " 'status.csv',\n",
       " 'circuits.csv',\n",
       " 'races.csv',\n",
       " 'results.csv',\n",
       " 'lap_times.csv',\n",
       " 'qualifying.csv',\n",
       " 'sprint_results.csv',\n",
       " 'constructors.csv',\n",
       " 'constructor_results.csv',\n",
       " 'driver_standings.csv']"
      ]
     },
     "execution_count": 6,
     "metadata": {},
     "output_type": "execute_result"
    }
   ],
   "source": [
    "# Peek at the data folder\n",
    "os.listdir('../data/')"
   ]
  },
  {
   "cell_type": "code",
   "execution_count": 7,
   "id": "c010a45e-ae25-4278-8ea4-7d7c7e4acbd8",
   "metadata": {},
   "outputs": [],
   "source": [
    "# Load necessary data\n",
    "PATH = '../data/'\n",
    "drivers_df = pd.read_csv(PATH+'drivers.csv')\n",
    "lap_times_df = pd.read_csv(PATH+'lap_times.csv')\n",
    "races_df = pd.read_csv(PATH+'races.csv')\n",
    "results_df = pd.read_csv(PATH+'results.csv')\n"
   ]
  },
  {
   "cell_type": "code",
   "execution_count": 8,
   "id": "1d643212-7b49-48e7-af32-21ee6dffe726",
   "metadata": {},
   "outputs": [
    {
     "data": {
      "text/plain": [
       "((859, 9), (575029, 6), (1125, 18), (26519, 18))"
      ]
     },
     "execution_count": 8,
     "metadata": {},
     "output_type": "execute_result"
    }
   ],
   "source": [
    "drivers_df.shape, lap_times_df.shape, races_df.shape, results_df.shape"
   ]
  },
  {
   "cell_type": "code",
   "execution_count": null,
   "id": "3aba3c4e-b0ec-4ebd-b6a1-c7906d336c2a",
   "metadata": {},
   "outputs": [],
   "source": []
  }
 ],
 "metadata": {
  "kernelspec": {
   "display_name": "Python 3 (ipykernel)",
   "language": "python",
   "name": "python3"
  },
  "language_info": {
   "codemirror_mode": {
    "name": "ipython",
    "version": 3
   },
   "file_extension": ".py",
   "mimetype": "text/x-python",
   "name": "python",
   "nbconvert_exporter": "python",
   "pygments_lexer": "ipython3",
   "version": "3.10.12"
  }
 },
 "nbformat": 4,
 "nbformat_minor": 5
}
